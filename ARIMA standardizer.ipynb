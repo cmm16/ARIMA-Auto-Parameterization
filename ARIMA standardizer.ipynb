{
 "cells": [
  {
   "cell_type": "code",
   "execution_count": 1126,
   "metadata": {},
   "outputs": [],
   "source": [
    "#Imports \n",
    "import numpy as np\n",
    "from numpy import random\n",
    "import itertools\n",
    "import matplotlib.pyplot as plt\n",
    "import statsmodels\n",
    "from statsmodels.tsa import arima_process\n",
    "from statsmodels.tsa import stattools\n",
    "from statsmodels.graphics import tsaplots\n",
    "import keras\n",
    "from keras import Sequential\n",
    "from keras.layers import Activation,Conv2D,MaxPooling2D,Flatten\n",
    "from keras.layers import Dense\n",
    "from keras.layers import Dropout\n",
    "from keras.utils import np_utils\n",
    "import sklearn\n",
    "from sklearn import metrics\n",
    "from keras.layers import Activation,Conv2D,MaxPooling2D,Flatten\n",
    "from keras.callbacks import EarlyStopping\n",
    "from keras.layers.normalization import BatchNormalization\n",
    "from sklearn import tree\n",
    "from sklearn.ensemble import RandomForestClassifier\n",
    "from sklearn.datasets import make_classification"
   ]
  },
  {
   "cell_type": "code",
   "execution_count": 1088,
   "metadata": {},
   "outputs": [],
   "source": [
    "#Creating testing and training data sets for AR realizations\n",
    "\n",
    "def AR_data_creation(p, n_samples, r_len, verbose = False):\n",
    "    AR_data = np.zeros((p, n_samples, 1,r_len))\n",
    "    coef_list = []\n",
    "    for p_index in range(p):\n",
    "        for i in range(n_samples):\n",
    "            coefs = (2 * np.random.random(p_index)) - 1\n",
    "            if p_index > 1:\n",
    "                inout = np.random.randint(0, high = 2, size= p_index - 1)\n",
    "                inout = np.r_[(inout,1)]\n",
    "            else:\n",
    "                inout = 1\n",
    "            coefs = coefs * inout        \n",
    "            coefs = coefs / (sum(abs(coefs)) + 0.0001)\n",
    "            coefs = np.r_[(1, -coefs)]\n",
    "            #print(p,coefs)\n",
    "            coef_list.append(coefs)\n",
    "            AR_data[p_index][i][0] = statsmodels.tsa.arima_process.arma_generate_sample(\n",
    "                ar = coefs, ma = [1], nsample = r_len, sigma = 1, burnin = 24)\n",
    "            #AR_data[p_index][i][1] = statsmodels.tsa.stattools.acf(AR_data[p_index][i][0], nlags = r_len)\n",
    "            #AR_data[p_index][i][2] = statsmodels.tsa.stattools.pacf(AR_data[p_index][i][0], nlags = r_len - 1)\n",
    "        if verbose:\n",
    "            print(\"Done with\", p_index)   \n",
    "    print(\"AR: Done\")\n",
    "    return AR_data, coef_list\n",
    "\n",
    "\n",
    "def CNN_AR_data_creation(p, n_samples, r_len, verbose = False):\n",
    "    if r_len % 2 == 1:\n",
    "        r_len -= 1\n",
    "    \n",
    "    AR_data = np.zeros((p, n_samples, int(r_len/2),int(r_len/2)))\n",
    "    for p_index in range(p):\n",
    "        i = 0 \n",
    "        while n_samples - 1 > i:\n",
    "            coefs = (2 * np.random.random(p_index)) - 1\n",
    "            if p_index > 1:\n",
    "                inout = np.random.randint(0, high = 2, size= p_index - 1)\n",
    "                inout = np.r_[(inout,1)]\n",
    "            else:\n",
    "                inout = 1\n",
    "            coefs = coefs * inout        \n",
    "            coefs = coefs / (sum(abs(coefs)) + 0.0001)\n",
    "            coefs = np.r_[(1, -coefs)]\n",
    "            if coefs[-1] < .15:\n",
    "                pass \n",
    "            else:\n",
    "                i += 1\n",
    "                realization = statsmodels.tsa.arima_process.arma_generate_sample(\n",
    "                    ar = coefs, ma = [1], nsample = r_len, sigma = 1, burnin = 24)\n",
    "                for j in range(int(r_len/2)):\n",
    "                    AR_data[p_index][i][j] = realization[j:int(r_len/2) + j]\n",
    "        if verbose:\n",
    "            print(\"Done with\", p_index)   \n",
    "    print(\"CNN: Done\")\n",
    "    return AR_data\n",
    "\n",
    "\n",
    "def Tree_data_creation(p, n_samples, r_len, lags = 25,verbose = False):\n",
    "    AR_data = np.zeros((p, n_samples, 2, lags))\n",
    "    \n",
    "    for p_index in range(p):\n",
    "        i = 0 \n",
    "        while n_samples - 1 > i:\n",
    "            coefs = (2 * np.random.random(p_index)) - 1\n",
    "            if p_index > 1:\n",
    "                inout = np.random.randint(0, high = 2, size= p_index - 1)\n",
    "                inout = np.r_[(inout,1)]\n",
    "            else:\n",
    "                inout = 1\n",
    "            coefs = coefs * inout        \n",
    "            coefs = coefs / (sum(abs(coefs)) + 0.0001)\n",
    "            coefs = np.r_[(1, -coefs)]\n",
    "            if coefs[-1] < .15:\n",
    "                pass \n",
    "            else:\n",
    "                i += 1\n",
    "                realization = statsmodels.tsa.arima_process.arma_generate_sample(\n",
    "                    ar = coefs, ma = [1], nsample = r_len, sigma = 1, burnin = 24)\n",
    "            \n",
    "                AR_data[p_index][i][0] = statsmodels.tsa.stattools.acf(realization, nlags = lags - 1)\n",
    "                AR_data[p_index][i][1] = statsmodels.tsa.stattools.pacf(realization, nlags = lags - 1)\n",
    "        if verbose:\n",
    "            print(\"Done with\", p_index)   \n",
    "    print(\"Tree: Done\")\n",
    "    return AR_data\n",
    "\n",
    "\n",
    "\n",
    "    \n",
    "    "
   ]
  },
  {
   "cell_type": "code",
   "execution_count": 1133,
   "metadata": {},
   "outputs": [],
   "source": [
    "#Data parameters \n",
    "p = 6\n",
    "n_train = 12000\n",
    "n_test = 2000\n",
    "r_len = 128\n",
    "lags = 25"
   ]
  },
  {
   "cell_type": "code",
   "execution_count": 1134,
   "metadata": {},
   "outputs": [
    {
     "name": "stdout",
     "output_type": "stream",
     "text": [
      "AR: Done\n",
      "AR: Done\n"
     ]
    }
   ],
   "source": [
    "AR_data_train, coef_list_train = AR_data_creation(p,n_train,r_len)\n",
    "AR_data_test, coef_list_test =  AR_data_creation(p,n_test,r_len)"
   ]
  },
  {
   "cell_type": "code",
   "execution_count": 1135,
   "metadata": {},
   "outputs": [
    {
     "name": "stdout",
     "output_type": "stream",
     "text": [
      "CNN: Done\n",
      "CNN: Done\n"
     ]
    }
   ],
   "source": [
    "CNN_AR_data_train = CNN_AR_data_creation(p,n_train,r_len)\n",
    "CNN_AR_data_test = CNN_AR_data_creation(p,n_test,r_len)"
   ]
  },
  {
   "cell_type": "code",
   "execution_count": 1136,
   "metadata": {},
   "outputs": [
    {
     "name": "stdout",
     "output_type": "stream",
     "text": [
      "Tree: Done\n",
      "Tree: Done\n"
     ]
    }
   ],
   "source": [
    "Tree_data_train = Tree_data_creation(p,n_train,r_len, lags)\n",
    "Tree_data_test = Tree_data_creation(p,n_test,r_len, lags)"
   ]
  },
  {
   "cell_type": "code",
   "execution_count": 1143,
   "metadata": {},
   "outputs": [],
   "source": [
    "#NN data reshaping\n",
    "NN_X_train = AR_data_train.reshape(p*n_train, r_len)\n",
    "NN_X_test = AR_data_test.reshape(p*n_test, r_len)"
   ]
  },
  {
   "cell_type": "code",
   "execution_count": 1144,
   "metadata": {},
   "outputs": [],
   "source": [
    "#Y\n",
    "train_a = np.full((n_train,),fill_value=0)\n",
    "test_a = np.full((n_test,),fill_value=0)\n",
    "for i in range(1,p):\n",
    "    train_b = np.full((n_train,),fill_value=i)\n",
    "    test_b = np.full((n_test,),fill_value=i)\n",
    "    train_a = np.vstack((train_a,train_b))\n",
    "    test_a = np.vstack((test_a,test_b))\n",
    "    \n",
    "y_train = train_a.ravel()\n",
    "y_test = test_a.ravel()\n",
    "\n",
    "Y_train = np_utils.to_categorical(y_train, p)\n",
    "Y_test = np_utils.to_categorical(y_test, p)"
   ]
  },
  {
   "cell_type": "code",
   "execution_count": 1145,
   "metadata": {},
   "outputs": [
    {
     "data": {
      "text/plain": [
       "(64, 64, 1)"
      ]
     },
     "execution_count": 1145,
     "metadata": {},
     "output_type": "execute_result"
    }
   ],
   "source": [
    "#CNN data reshaping\n",
    "CNN_X_train = CNN_AR_data_train.reshape(p*n_train, int(r_len/2),int(r_len/2), 1)\n",
    "CNN_X_test = CNN_AR_data_test.reshape(p*n_test, int(r_len/2),int(r_len/2), 1)\n",
    "CNN_X_train.shape[1:]"
   ]
  },
  {
   "cell_type": "code",
   "execution_count": 1146,
   "metadata": {},
   "outputs": [],
   "source": [
    "#Tree data reshaping\n",
    "Tree_X_train = Tree_data_train.reshape(p*n_train, 2 * lags)\n",
    "Tree_X_test = Tree_data_test.reshape(p*n_test, 2 * lags)"
   ]
  },
  {
   "cell_type": "code",
   "execution_count": 1147,
   "metadata": {},
   "outputs": [],
   "source": [
    "CNN_model = Sequential()\n",
    "CNN_model.add(Conv2D(8,(12,12),padding='same',input_shape=CNN_X_train.shape[1:]))\n",
    "CNN_model.add(Activation('relu'))\n",
    "CNN_model.add(Conv2D(8,(12,12)))\n",
    "CNN_model.add(Activation('relu'))\n",
    "CNN_model.add(BatchNormalization())\n",
    "CNN_model.add(MaxPooling2D(pool_size=(2,2)))\n",
    "CNN_model.add(Dropout(0.25))\n",
    "CNN_model.add(Conv2D(16,(12,12), padding='same'))\n",
    "CNN_model.add(Activation('relu'))\n",
    "CNN_model.add(BatchNormalization())\n",
    "CNN_model.add(Conv2D(16,(12, 12)))\n",
    "CNN_model.add(Activation('relu'))\n",
    "CNN_model.add(BatchNormalization())\n",
    "CNN_model.add(MaxPooling2D(pool_size=(2,2)))\n",
    "CNN_model.add(Dropout(0.25))\n",
    "#CNN_model.add(Conv2D(32,(4,4), padding='same'))\n",
    "#CNN_model.add(Activation('relu'))\n",
    "#CNN_model.add(BatchNormalization())\n",
    "#CNN_model.add(Conv2D(32,(4, 4)))\n",
    "#CNN_model.add(Activation('relu'))\n",
    "#CNN_model.add(BatchNormalization())\n",
    "#CNN_model.add(MaxPooling2D(pool_size=(2,2)))\n",
    "#CNN_model.add(Dropout(0.25))\n",
    "CNN_model.add(Flatten())\n",
    "CNN_model.add(BatchNormalization())\n",
    "CNN_model.add(Dense(512))\n",
    "CNN_model.add(Activation('relu'))\n",
    "CNN_model.add(Dropout(0.5))\n",
    "CNN_model.add(BatchNormalization())\n",
    "CNN_model.add(Dense(p))\n",
    "CNN_model.add(Activation('softmax'))"
   ]
  },
  {
   "cell_type": "code",
   "execution_count": 1148,
   "metadata": {},
   "outputs": [],
   "source": [
    "NN_model = Sequential()\n",
    "NN_model.add(Dense(4096, activation = 'relu', input_shape=(r_len,)))\n",
    "NN_model.add(Dropout(0.5))\n",
    "NN_model.add(BatchNormalization())\n",
    "NN_model.add(Dense(2048, activation = 'relu'))\n",
    "NN_model.add(Dropout(0.5))\n",
    "NN_model.add(BatchNormalization())\n",
    "NN_model.add(Dense(1024,activation='relu'))\n",
    "NN_model.add(Dropout(0.5))\n",
    "NN_model.add(BatchNormalization())\n",
    "NN_model.add(Dense(512,activation='relu'))\n",
    "NN_model.add(Dropout(0.5))\n",
    "NN_model.add(BatchNormalization())\n",
    "NN_model.add(Dense(256,activation='relu'))\n",
    "NN_model.add(Dropout(0.5))\n",
    "NN_model.add(BatchNormalization())\n",
    "NN_model.add(Dense(128,activation='relu'))\n",
    "NN_model.add(Dropout(0.5))\n",
    "NN_model.add(BatchNormalization())\n",
    "NN_model.add(Dense(p,activation='softmax'))"
   ]
  },
  {
   "cell_type": "code",
   "execution_count": 1149,
   "metadata": {},
   "outputs": [],
   "source": [
    "NN_model.compile(optimizer='adam',\n",
    "                  loss='categorical_crossentropy', metrics=['accuracy'])"
   ]
  },
  {
   "cell_type": "code",
   "execution_count": 1150,
   "metadata": {},
   "outputs": [],
   "source": [
    "CNN_model.compile(optimizer='adam',\n",
    "                  loss='categorical_crossentropy', metrics=['accuracy'])"
   ]
  },
  {
   "cell_type": "code",
   "execution_count": 1162,
   "metadata": {},
   "outputs": [
    {
     "name": "stdout",
     "output_type": "stream",
     "text": [
      "0.9695138888888889\n",
      "0.94375\n"
     ]
    }
   ],
   "source": [
    "clf = tree.DecisionTreeClassifier(max_depth=12)\n",
    "clf = clf.fit(Tree_X_train,Y_train)\n",
    "y_pred = clf.predict(Tree_X_test).argmax(axis=1)\n",
    "\n",
    "print(clf.score(Tree_X_train, Y_train))\n",
    "print(clf.score(Tree_X_test, Y_test))\n"
   ]
  },
  {
   "cell_type": "code",
   "execution_count": 1163,
   "metadata": {},
   "outputs": [
    {
     "name": "stdout",
     "output_type": "stream",
     "text": [
      "0.9532083333333333\n",
      "0.9386666666666666\n"
     ]
    }
   ],
   "source": [
    "forest = RandomForestClassifier(n_estimators=100, max_depth=12)\n",
    "forest = forest.fit(Tree_X_train,Y_train)\n",
    "print(forest.score(Tree_X_train, Y_train))\n",
    "print(forest.score(Tree_X_test, Y_test))"
   ]
  },
  {
   "cell_type": "code",
   "execution_count": 1164,
   "metadata": {},
   "outputs": [
    {
     "name": "stdout",
     "output_type": "stream",
     "text": [
      "16 11594\n",
      "12000\n",
      "0.9661666666666666\n"
     ]
    },
    {
     "data": {
      "text/plain": [
       "array([[1958,    0,    3,   12,   10,   17],\n",
       "       [   5, 1952,    0,   34,    2,    7],\n",
       "       [  10,    0, 1941,   23,   15,   11],\n",
       "       [  19,   39,   34, 1833,   38,   37],\n",
       "       [  21,    0,   47,   48, 1820,   64],\n",
       "       [  21,   10,   29,   62,   49, 1829]])"
      ]
     },
     "execution_count": 1164,
     "metadata": {},
     "output_type": "execute_result"
    }
   ],
   "source": [
    "y_pred = clf.predict(Tree_X_test).argmax(axis=1)\n",
    "output = sklearn.metrics.confusion_matrix(y_test, y_pred)\n",
    "\n",
    "right = 0\n",
    "count = 0\n",
    "for i in range(p):\n",
    "    for j in range(p):\n",
    "        if i == j:\n",
    "            right +=  output[i][j]\n",
    "            count += 1\n",
    "        if i == j - 1:\n",
    "            right += output[i][j] \n",
    "            count += 1\n",
    "        if i == j + 1:\n",
    "            right += output[i][j]\n",
    "            count += 1\n",
    "print(count, right)\n",
    "print(sum(sum(output)))\n",
    "print(right/sum(sum(output)))\n",
    "sklearn.metrics.confusion_matrix(y_test, y_pred)"
   ]
  },
  {
   "cell_type": "code",
   "execution_count": 1165,
   "metadata": {},
   "outputs": [
    {
     "name": "stdout",
     "output_type": "stream",
     "text": [
      "16 11470\n",
      "12000\n",
      "0.9558333333333333\n"
     ]
    },
    {
     "data": {
      "text/plain": [
       "array([[1973,    0,    0,    1,   16,   10],\n",
       "       [  12, 1985,    0,    2,    0,    1],\n",
       "       [  53,    0, 1924,    7,   13,    3],\n",
       "       [  73,   44,   39, 1816,   15,   13],\n",
       "       [ 118,    0,   20,   33, 1810,   19],\n",
       "       [  89,    6,   17,   51,   47, 1790]])"
      ]
     },
     "execution_count": 1165,
     "metadata": {},
     "output_type": "execute_result"
    }
   ],
   "source": [
    "y_pred = forest.predict(Tree_X_test).argmax(axis=1)\n",
    "output = sklearn.metrics.confusion_matrix(y_test, y_pred)\n",
    "\n",
    "right = 0\n",
    "count = 0\n",
    "for i in range(p):\n",
    "    for j in range(p):\n",
    "        if i == j:\n",
    "            right +=  output[i][j]\n",
    "            count += 1\n",
    "        if i == j - 1:\n",
    "            right += output[i][j] \n",
    "            count += 1\n",
    "        if i == j + 1:\n",
    "            right += output[i][j]\n",
    "            count += 1\n",
    "print(count, right)\n",
    "print(sum(sum(output)))\n",
    "print(right/sum(sum(output)))\n",
    "sklearn.metrics.confusion_matrix(y_test, y_pred)"
   ]
  },
  {
   "cell_type": "code",
   "execution_count": 1156,
   "metadata": {},
   "outputs": [],
   "source": [
    "train_ac = []\n",
    "test_ac = []\n",
    "\n",
    "for i in range(1,61):\n",
    "    clf = tree.DecisionTreeClassifier(max_depth=i)\n",
    "    clf = clf.fit(Tree_X_train,Y_train)\n",
    "\n",
    "    train_ac.append(clf.score(Tree_X_train, Y_train))\n",
    "    test_ac.append(clf.score(Tree_X_test, Y_test))"
   ]
  },
  {
   "cell_type": "code",
   "execution_count": 1157,
   "metadata": {},
   "outputs": [
    {
     "data": {
      "image/png": "[encoded data removed]",
      "text/plain": [
       "<Figure size 432x288 with 1 Axes>"
      ]
     },
     "metadata": {
      "needs_background": "light"
     },
     "output_type": "display_data"
    }
   ],
   "source": [
    "plt.plot(range(60), train_ac, label='train')\n",
    "plt.plot(range(60), test_ac, label='test')\n",
    "plt.legend({'train' : 'b', 'test' : 'r'})\n",
    "plt.show()\n",
    "\n"
   ]
  },
  {
   "cell_type": "code",
   "execution_count": null,
   "metadata": {},
   "outputs": [
    {
     "name": "stdout",
     "output_type": "stream",
     "text": [
      "Train on 72000 samples, validate on 12000 samples\n",
      "Epoch 1/15\n",
      "72000/72000 [==============================] - 417s 6ms/step - loss: 1.4533 - acc: 0.4027 - val_loss: 1.4190 - val_acc: 0.3671\n",
      "Epoch 2/15\n",
      "72000/72000 [==============================] - 421s 6ms/step - loss: 1.2742 - acc: 0.4743 - val_loss: 1.2921 - val_acc: 0.4382\n",
      "Epoch 3/15\n",
      "62208/72000 [========================>.....] - ETA: 56s - loss: 1.2324 - acc: 0.4987"
     ]
    }
   ],
   "source": [
    "NN_model.fit(NN_X_train, Y_train, epochs = 15, verbose = 1, validation_data=[NN_X_test, Y_test])\n"
   ]
  },
  {
   "cell_type": "code",
   "execution_count": 1105,
   "metadata": {},
   "outputs": [
    {
     "name": "stdout",
     "output_type": "stream",
     "text": [
      "Train on 12000 samples, validate on 2000 samples\n",
      "Epoch 1/15\n",
      "12000/12000 [==============================] - 250s 21ms/step - loss: 1.7615 - acc: 0.3998 - val_loss: 1.4731 - val_acc: 0.4840\n",
      "Epoch 2/15\n",
      "12000/12000 [==============================] - 238s 20ms/step - loss: 1.3329 - acc: 0.5443 - val_loss: 1.1735 - val_acc: 0.5925\n",
      "Epoch 3/15\n",
      "12000/12000 [==============================] - 241s 20ms/step - loss: 1.1894 - acc: 0.5882 - val_loss: 1.2456 - val_acc: 0.5685\n",
      "Epoch 4/15\n",
      "12000/12000 [==============================] - 242s 20ms/step - loss: 1.1052 - acc: 0.6169 - val_loss: 1.0955 - val_acc: 0.6030\n",
      "Epoch 5/15\n",
      "12000/12000 [==============================] - 241s 20ms/step - loss: 1.0495 - acc: 0.6346 - val_loss: 0.9625 - val_acc: 0.6650\n",
      "Epoch 6/15\n",
      "12000/12000 [==============================] - 279s 23ms/step - loss: 1.0009 - acc: 0.6492 - val_loss: 1.0471 - val_acc: 0.6290\n",
      "Epoch 7/15\n",
      "12000/12000 [==============================] - 248s 21ms/step - loss: 0.9740 - acc: 0.6564 - val_loss: 0.8981 - val_acc: 0.6865\n",
      "Epoch 8/15\n",
      "12000/12000 [==============================] - 243s 20ms/step - loss: 0.9430 - acc: 0.6705 - val_loss: 0.9245 - val_acc: 0.6685\n",
      "Epoch 9/15\n",
      "12000/12000 [==============================] - 996s 83ms/step - loss: 0.9146 - acc: 0.6810 - val_loss: 0.9735 - val_acc: 0.6550\n",
      "Epoch 10/15\n",
      "12000/12000 [==============================] - 278s 23ms/step - loss: 0.8872 - acc: 0.6939 - val_loss: 0.9424 - val_acc: 0.6695\n",
      "Epoch 11/15\n",
      "12000/12000 [==============================] - 279s 23ms/step - loss: 0.8817 - acc: 0.6910 - val_loss: 0.7989 - val_acc: 0.7135\n",
      "Epoch 12/15\n",
      "12000/12000 [==============================] - 262s 22ms/step - loss: 0.8570 - acc: 0.7008 - val_loss: 0.8416 - val_acc: 0.7020\n",
      "Epoch 13/15\n",
      "12000/12000 [==============================] - 244s 20ms/step - loss: 0.8336 - acc: 0.7097 - val_loss: 0.8331 - val_acc: 0.7080\n",
      "Epoch 14/15\n",
      "12000/12000 [==============================] - 247s 21ms/step - loss: 0.8418 - acc: 0.7053 - val_loss: 0.8396 - val_acc: 0.7105\n",
      "Epoch 15/15\n",
      "12000/12000 [==============================] - 251s 21ms/step - loss: 0.8151 - acc: 0.7158 - val_loss: 0.8575 - val_acc: 0.7060\n"
     ]
    },
    {
     "data": {
      "text/plain": [
       "<keras.callbacks.History at 0x1d89094240>"
      ]
     },
     "execution_count": 1105,
     "metadata": {},
     "output_type": "execute_result"
    }
   ],
   "source": [
    "\n",
    "CNN_model.fit(CNN_X_train,\n",
    "             Y_train,\n",
    "             batch_size=32,\n",
    "             epochs=15,\n",
    "             validation_data=(CNN_X_test,Y_test))"
   ]
  },
  {
   "cell_type": "code",
   "execution_count": 1107,
   "metadata": {},
   "outputs": [
    {
     "name": "stdout",
     "output_type": "stream",
     "text": [
      "28 8513\n",
      "10000\n",
      "0.8513\n"
     ]
    },
    {
     "data": {
      "text/plain": [
       "array([[149,   0,   0,   0,   3,   0,  11,  10,   0,  27],\n",
       "       [  1, 198,   0,   0,   0,   0,   0,   1,   0,   0],\n",
       "       [  2,   0, 175,   1,   4,   0,   5,   6,   0,   7],\n",
       "       [  5,  10,  16, 104,   6,   6,   3,  29,   6,  15],\n",
       "       [  8,   1,   6,   2, 155,   1,  11,   7,   0,   9],\n",
       "       [  7,   0,   3,   8,  27, 116,   5,  22,   1,  11],\n",
       "       [ 12,   0,   9,   0,  12,   6, 131,  13,   6,  11],\n",
       "       [  6,   0,   1,   1,  13,   1,  12, 158,   0,   8],\n",
       "       [ 22,   0,   6,   1,  11,  11,  20,  20,  83,  26],\n",
       "       [ 14,   0,   0,   1,  13,   6,   4,  17,   2, 143]])"
      ]
     },
     "execution_count": 1107,
     "metadata": {},
     "output_type": "execute_result"
    }
   ],
   "source": [
    "y_pred =  CNN_model.predict_classes(CNN_X_test, batch_size=32)\n",
    "\n",
    "right = 0\n",
    "count = 0\n",
    "for i in range(10):\n",
    "    for j in range(10):\n",
    "        if i == j:\n",
    "            right +=  output[i][j]\n",
    "            count += 1\n",
    "        if i == j - 1:\n",
    "            right += output[i][j] \n",
    "            count += 1\n",
    "        if i == j + 1:\n",
    "            right += output[i][j]\n",
    "            count += 1\n",
    "print(count, right)\n",
    "print(sum(sum(output)))\n",
    "print(\"adjusted %\", right/sum(sum(output)))\n",
    "sklearn.metrics.confusion_matrix(y_test, y_pred)"
   ]
  },
  {
   "cell_type": "code",
   "execution_count": null,
   "metadata": {},
   "outputs": [],
   "source": [
    "#look at how to actually use these before appyling it\n",
    "model3.add(Embedding(20000,128))\n",
    "model3.add(LSTM(128,dropout=0.2,recurrent_dropout=0.2))\n",
    "model3.add(Dense(1,activation='sigmoid'))"
   ]
  },
  {
   "cell_type": "code",
   "execution_count": 666,
   "metadata": {},
   "outputs": [
    {
     "name": "stdout",
     "output_type": "stream",
     "text": [
      "(2, 1000, 1, 128)\n",
      "(2, 1000, 1)\n",
      "2.3611344532797256\n",
      "2.7790092751573647\n",
      "2.8100539360810797\n"
     ]
    }
   ],
   "source": [
    "print(AR_data_train.shape)\n",
    "max_AR_data_train = np.max(AR_data_train, axis= 3)\n",
    "print(max_AR_data_train.shape)\n",
    "\n",
    "print(max(AR_data_train[1][0][0]))\n",
    "print(np.mean(max_AR_data_train[0][:]))\n",
    "print(np.mean(max_AR_data_train[1][:]))"
   ]
  },
  {
   "cell_type": "code",
   "execution_count": 668,
   "metadata": {},
   "outputs": [
    {
     "data": {
      "image/png": "[encoded data removed]",
      "text/plain": [
       "<Figure size 432x288 with 1 Axes>"
      ]
     },
     "metadata": {
      "needs_background": "light"
     },
     "output_type": "display_data"
    }
   ],
   "source": [
    "t = np.arange(1,r_len + 1).reshape(r_len)\n",
    "plt.plot(t, AR_data_train[0][0].T)\n",
    "plt.show()\n",
    "\n"
   ]
  },
  {
   "cell_type": "code",
   "execution_count": 672,
   "metadata": {},
   "outputs": [
    {
     "data": {
      "image/png": "[encoded data removed]",
      "text/plain": [
       "<Figure size 432x288 with 1 Axes>"
      ]
     },
     "metadata": {
      "needs_background": "light"
     },
     "output_type": "display_data"
    }
   ],
   "source": [
    "statsmodels.tsa.stattools.acf(AR_data_train[0][10])\n",
    "#statsmodels.tsa.stattools.pacf(AR_data_train[1][0])\n",
    "\n",
    "statsmodels.graphics.tsaplots.plot_acf(AR_data_train[0][0].T, lags = 12)\n",
    "plt.show()"
   ]
  },
  {
   "cell_type": "code",
   "execution_count": 280,
   "metadata": {},
   "outputs": [
    {
     "data": {
      "text/plain": [
       "array([ 1.        , -0.        ,  0.        , -0.        , -0.        ,\n",
       "       -0.        ,  0.        ,  0.        , -0.        ,  0.27484796,\n",
       "       -0.        ,  0.        , -0.        ,  0.        , -0.        ,\n",
       "       -0.        ,  0.        , -0.        ,  0.        ,  0.        ,\n",
       "        0.        , -0.        , -0.        , -0.        , -0.        ,\n",
       "        0.        , -0.        , -0.        , -0.        ,  0.        ,\n",
       "       -0.        ,  0.        ,  0.        ,  0.        , -0.        ,\n",
       "       -0.        , -0.        , -0.        ,  0.        , -0.        ,\n",
       "       -0.        , -0.        ,  0.        ,  0.        ,  0.        ,\n",
       "        0.        , -0.        ,  0.        , -0.        ,  0.        ,\n",
       "       -0.        ,  0.        , -0.        , -0.        , -0.        ,\n",
       "       -0.        ,  0.21437683, -0.        ,  0.        , -0.        ,\n",
       "       -0.        ,  0.        ,  0.        , -0.        , -0.        ,\n",
       "        0.        , -0.        ,  0.        , -0.        ,  0.        ,\n",
       "       -0.        ,  0.        , -0.        , -0.        , -0.        ,\n",
       "       -0.        ,  0.        , -0.        ,  0.        , -0.        ,\n",
       "       -0.        , -0.        , -0.        , -0.        , -0.        ,\n",
       "        0.        , -0.        ,  0.        , -0.        , -0.        ,\n",
       "       -0.        , -0.        , -0.        , -0.        ,  0.        ,\n",
       "       -0.        , -0.        , -0.        , -0.        , -0.        ])"
      ]
     },
     "execution_count": 280,
     "metadata": {},
     "output_type": "execute_result"
    }
   ],
   "source": [
    "conf_band =1.96 / np.sqrt(100)\n",
    "acf = statsmodels.tsa.stattools.acf(AR_data[4][1][0], nlags = 100) \n",
    "acf = acf * (abs(acf) - conf_band > 0)\n",
    "acf"
   ]
  },
  {
   "cell_type": "code",
   "execution_count": 266,
   "metadata": {},
   "outputs": [
    {
     "data": {
      "text/plain": [
       "[<matplotlib.lines.Line2D at 0x1c31826940>]"
      ]
     },
     "execution_count": 266,
     "metadata": {},
     "output_type": "execute_result"
    },
    {
     "data": {
      "image/png": "[encoded data removed]",
      "text/plain": [
       "<Figure size 432x288 with 1 Axes>"
      ]
     },
     "metadata": {
      "needs_background": "light"
     },
     "output_type": "display_data"
    }
   ],
   "source": [
    "t = np.arange(1,101).reshape(100)\n",
    "plt.plot(t, AR_data[1][10])"
   ]
  },
  {
   "cell_type": "code",
   "execution_count": 109,
   "metadata": {},
   "outputs": [
    {
     "data": {
      "text/plain": [
       "array([ 1.62434536, -0.61175641, -0.52817175, -1.07296862,  0.86540763])"
      ]
     },
     "execution_count": 109,
     "metadata": {},
     "output_type": "execute_result"
    }
   ],
   "source": [
    "#might want to creat realizations of AR and MA using R!\n",
    "\n",
    "def AR(p, sigma2 = 1, r_len = 100):\n",
    "    \"\"\"\n",
    "    Creates an AR realization with set constant noise\n",
    "    \n",
    "    Arguements:\n",
    "        p - the degree of the autoregressive component\n",
    "        sigma2 - the set constant variation of the white noise\n",
    "        r_len - the number of data points in the realization\n",
    "        \n",
    "    Returns:\n",
    "        x_t - The AR(p) realization with connstant noice of variance eaqual to sigma\n",
    "    \"\"\"\n",
    "    noise = np.random.normal(0,sigma2,r_len) #The noise at t of each x_t\n",
    "    \n",
    "    coefs = np.random.random(p) #The coefficients of AR polynomial of degree p\n",
    "\n",
    "    x_t = np.random.normal(0,sigma2,p)  #Intitlizes x_t\n",
    "    \n",
    "    for i in range(r_len):\n",
    "        next_xt = noise[i]\n",
    "        for c in range(len(coefs)):\n",
    "            next_xt += x_t[i - c + p - 1] * coefs[c]\n",
    "\n",
    "        x_t = np.append(x_t,next_xt)\n",
    "\n",
    "        \n",
    "    return x_t[p:]\n",
    "\n",
    "np.random.seed(1) \n",
    "AR(0, sigma2 = 1, r_len = 5)\n",
    "\n",
    "\n"
   ]
  },
  {
   "cell_type": "code",
   "execution_count": null,
   "metadata": {},
   "outputs": [],
   "source": []
  },
  {
   "cell_type": "code",
   "execution_count": null,
   "metadata": {},
   "outputs": [],
   "source": []
  }
 ],
 "metadata": {
  "kernelspec": {
   "display_name": "Python 3",
   "language": "python",
   "name": "python3"
  },
  "language_info": {
   "codemirror_mode": {
    "name": "ipython",
    "version": 3
   },
   "file_extension": ".py",
   "mimetype": "text/x-python",
   "name": "python",
   "nbconvert_exporter": "python",
   "pygments_lexer": "ipython3",
   "version": "3.6.6"
  }
 },
 "nbformat": 4,
 "nbformat_minor": 2
}
